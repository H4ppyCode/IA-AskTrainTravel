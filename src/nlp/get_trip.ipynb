{
 "cells": [
  {
   "cell_type": "code",
   "id": "initial_id",
   "metadata": {
    "collapsed": true,
    "ExecuteTime": {
     "end_time": "2025-01-24T10:39:21.371706Z",
     "start_time": "2025-01-24T10:39:21.368957Z"
    }
   },
   "source": [
    "# Imports \n",
    "import GetTripModel\n",
    "import importlib"
   ],
   "outputs": [],
   "execution_count": 42
  },
  {
   "cell_type": "code",
   "id": "a347ffc1",
   "metadata": {
    "ExecuteTime": {
     "end_time": "2025-01-24T10:39:22.485017Z",
     "start_time": "2025-01-24T10:39:22.475983Z"
    }
   },
   "source": [
    "model = None"
   ],
   "outputs": [],
   "execution_count": 43
  },
  {
   "cell_type": "code",
   "id": "65afba73",
   "metadata": {
    "ExecuteTime": {
     "end_time": "2025-01-24T10:39:23.432174Z",
     "start_time": "2025-01-24T10:39:23.427271Z"
    }
   },
   "source": [
    "importlib.reload(GetTripModel)\n",
    "\n",
    "class TrainingGetTripModel(GetTripModel.SpacyGetTripModel):\n",
    "    def prepare_data(self, data):\n",
    "        prepared_data = []\n",
    "        for item in data:\n",
    "            text = item['sentence']\n",
    "            ents = []\n",
    "            # This model only works with real trip sentences, ie with a departure and an arrival\n",
    "            if len(item['entities']) != 2:\n",
    "                continue\n",
    "            for ent in item['entities']:\n",
    "                ents.append((ent['start'], ent['end'], ent['label']))\n",
    "\n",
    "            prepared_data.append((text, {\"entities\": ents}))\n",
    "        return prepared_data\n",
    "\n",
    "# Refresh the methods of the model if it was already instanciated\n",
    "if model:\n",
    "    model.__class__ = TrainingGetTripModel\n",
    "    TrainingGetTripModel.refresh_methods(model)"
   ],
   "outputs": [],
   "execution_count": 44
  },
  {
   "cell_type": "code",
   "id": "fae8d7816c1c7bbe",
   "metadata": {
    "ExecuteTime": {
     "end_time": "2025-01-24T10:39:30.959513Z",
     "start_time": "2025-01-24T10:39:30.955305Z"
    }
   },
   "source": [
    "# Load data\n",
    "model = TrainingGetTripModel()"
   ],
   "outputs": [],
   "execution_count": 47
  },
  {
   "cell_type": "markdown",
   "id": "8060589f48f4c9",
   "metadata": {},
   "source": [
    "# Training"
   ]
  },
  {
   "cell_type": "code",
   "id": "992393ef5a9bfc56",
   "metadata": {
    "ExecuteTime": {
     "end_time": "2025-01-24T10:39:32.292725Z",
     "start_time": "2025-01-24T10:39:32.268060Z"
    }
   },
   "source": [
    "num_positives = len([item for item in model.train_data if len(item[1][\"entities\"]) > 0])\n",
    "num_negatives = len([item for item in model.train_data if len(item[1][\"entities\"]) == 0])\n",
    "print(f\"Exemples positifs : {num_positives}, Exemples négatifs : {num_negatives}\")\n",
    "print(f\"Exemple d'entraînement : {model.train_data[0]}\")\n"
   ],
   "outputs": [
    {
     "name": "stdout",
     "output_type": "stream",
     "text": [
      "Exemples positifs : 3991, Exemples négatifs : 0\n",
      "Exemple d'entraînement : ('je cherche un billet de train pour voyager de le pouzin à saint-aubin-des-landes.', {'entities': [(46, 55, 'VILLE_DEPART'), (58, 80, 'VILLE_DESTINATION')]})\n"
     ]
    }
   ],
   "execution_count": 48
  },
  {
   "cell_type": "code",
   "id": "ac1f89e7342e497e",
   "metadata": {
    "ExecuteTime": {
     "end_time": "2025-01-24T10:39:35.514696Z",
     "start_time": "2025-01-24T10:39:34.069508Z"
    }
   },
   "source": [
    "# Model creation\n",
    "model.load_model(\"fr_core_news_md\")"
   ],
   "outputs": [],
   "execution_count": 49
  },
  {
   "cell_type": "code",
   "id": "21b70bb4744d51ac",
   "metadata": {
    "ExecuteTime": {
     "end_time": "2025-01-24T10:42:33.157713Z",
     "start_time": "2025-01-24T10:39:37.638476Z"
    }
   },
   "source": [
    "# Training\n",
    "model.train(12, drop=0.30)"
   ],
   "outputs": [
    {
     "name": "stdout",
     "output_type": "stream",
     "text": [
      "Iteration 1, losses : {'ner': np.float32(2341.5205)}\n",
      "Iteration 2, losses : {'ner': np.float32(680.11414)}\n",
      "Iteration 3, losses : {'ner': np.float32(417.1037)}\n",
      "Iteration 4, losses : {'ner': np.float32(345.04004)}\n",
      "Iteration 5, losses : {'ner': np.float32(292.41373)}\n",
      "Iteration 6, losses : {'ner': np.float32(271.84076)}\n",
      "Iteration 7, losses : {'ner': np.float32(237.30855)}\n",
      "Iteration 8, losses : {'ner': np.float32(241.74586)}\n",
      "Iteration 9, losses : {'ner': np.float32(161.38643)}\n",
      "Iteration 10, losses : {'ner': np.float32(180.12761)}\n",
      "Iteration 11, losses : {'ner': np.float32(231.3701)}\n",
      "Iteration 12, losses : {'ner': np.float32(98.464005)}\n"
     ]
    }
   ],
   "execution_count": 50
  },
  {
   "cell_type": "code",
   "id": "b72664f24a335467",
   "metadata": {
    "ExecuteTime": {
     "end_time": "2025-01-24T10:42:35.630407Z",
     "start_time": "2025-01-24T10:42:35.242933Z"
    }
   },
   "source": [
    "# Save the model\n",
    "model.save(\"model_ner_trained\")"
   ],
   "outputs": [],
   "execution_count": 51
  },
  {
   "cell_type": "markdown",
   "id": "10fdd9955d829df",
   "metadata": {},
   "source": [
    "# Testing"
   ]
  },
  {
   "cell_type": "code",
   "id": "e373a0cf049206e",
   "metadata": {
    "ExecuteTime": {
     "end_time": "2025-01-24T10:44:00.156757Z",
     "start_time": "2025-01-24T10:43:55.774893Z"
    }
   },
   "source": [
    "model.evaluate_model(model.test_data, \"Trained model\")"
   ],
   "outputs": [
    {
     "name": "stdout",
     "output_type": "stream",
     "text": [
      "Model: Trained model\n"
     ]
    },
    {
     "data": {
      "text/plain": [
       "<Figure size 640x480 with 1 Axes>"
      ],
      "image/png": "[encoded data removed]"
     },
     "metadata": {},
     "output_type": "display_data"
    },
    {
     "data": {
      "text/plain": [
       "{'token_acc': 1.0,\n",
       " 'token_p': 1.0,\n",
       " 'token_r': 1.0,\n",
       " 'token_f': 1.0,\n",
       " 'pos_acc': None,\n",
       " 'morph_acc': None,\n",
       " 'morph_micro_p': None,\n",
       " 'morph_micro_r': None,\n",
       " 'morph_micro_f': None,\n",
       " 'morph_per_feat': None,\n",
       " 'sents_p': None,\n",
       " 'sents_r': None,\n",
       " 'sents_f': None,\n",
       " 'dep_uas': None,\n",
       " 'dep_las': None,\n",
       " 'dep_las_per_type': None,\n",
       " 'tag_acc': None,\n",
       " 'lemma_acc': None,\n",
       " 'ents_p': 0.9663532904502722,\n",
       " 'ents_r': 0.9677898909811695,\n",
       " 'ents_f': 0.9670710571923744,\n",
       " 'ents_per_type': {'VILLE_DESTINATION': {'p': 0.9477756286266924,\n",
       "   'r': 0.9712586719524281,\n",
       "   'f': 0.9593734703866862},\n",
       "  'VILLE_DEPART': {'p': 0.9898270600203459,\n",
       "   'r': 0.9643211100099108,\n",
       "   'f': 0.9769076305220884},\n",
       "  'MISC': {'p': 0.0, 'r': 0.0, 'f': 0.0}}}"
      ]
     },
     "execution_count": 54,
     "metadata": {},
     "output_type": "execute_result"
    }
   ],
   "execution_count": 54
  },
  {
   "cell_type": "markdown",
   "id": "ecd7f9b0ea39b9ff",
   "metadata": {},
   "source": [
    "# Validation"
   ]
  },
  {
   "cell_type": "code",
   "id": "e4a75f95d6e9df10",
   "metadata": {
    "ExecuteTime": {
     "end_time": "2025-01-24T10:42:50.005149Z",
     "start_time": "2025-01-24T10:42:48.824250Z"
    }
   },
   "source": [
    "model.evaluate_model(model.validation_data, \"Trained model\")"
   ],
   "outputs": [
    {
     "name": "stdout",
     "output_type": "stream",
     "text": [
      "Model: Trained model\n"
     ]
    },
    {
     "data": {
      "text/plain": [
       "<Figure size 640x480 with 1 Axes>"
      ],
      "image/png": "[encoded data removed]"
     },
     "metadata": {},
     "output_type": "display_data"
    },
    {
     "data": {
      "text/plain": [
       "{'token_acc': 1.0,\n",
       " 'token_p': 1.0,\n",
       " 'token_r': 1.0,\n",
       " 'token_f': 1.0,\n",
       " 'pos_acc': None,\n",
       " 'morph_acc': None,\n",
       " 'morph_micro_p': None,\n",
       " 'morph_micro_r': None,\n",
       " 'morph_micro_f': None,\n",
       " 'morph_per_feat': None,\n",
       " 'sents_p': None,\n",
       " 'sents_r': None,\n",
       " 'sents_f': None,\n",
       " 'dep_uas': None,\n",
       " 'dep_las': None,\n",
       " 'dep_las_per_type': None,\n",
       " 'tag_acc': None,\n",
       " 'lemma_acc': None,\n",
       " 'ents_p': 0.9084821428571429,\n",
       " 'ents_r': 0.9044444444444445,\n",
       " 'ents_f': 0.9064587973273943,\n",
       " 'ents_per_type': {'VILLE_DEPART': {'p': 0.9026548672566371,\n",
       "   'r': 0.9066666666666666,\n",
       "   'f': 0.9046563192904656},\n",
       "  'VILLE_DESTINATION': {'p': 0.9144144144144144,\n",
       "   'r': 0.9022222222222223,\n",
       "   'f': 0.9082774049217003}}}"
      ]
     },
     "execution_count": 53,
     "metadata": {},
     "output_type": "execute_result"
    }
   ],
   "execution_count": 53
  },
  {
   "cell_type": "markdown",
   "id": "fc53bbd0f425acb3",
   "metadata": {},
   "source": []
  }
 ],
 "metadata": {
  "kernelspec": {
   "display_name": "venv",
   "language": "python",
   "name": "python3"
  },
  "language_info": {
   "codemirror_mode": {
    "name": "ipython",
    "version": 3
   },
   "file_extension": ".py",
   "mimetype": "text/x-python",
   "name": "python",
   "nbconvert_exporter": "python",
   "pygments_lexer": "ipython3",
   "version": "3.12.7"
  }
 },
 "nbformat": 4,
 "nbformat_minor": 5
}
