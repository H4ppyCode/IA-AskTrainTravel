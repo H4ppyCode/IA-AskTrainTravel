{
 "cells": [
  {
   "cell_type": "code",
   "execution_count": 11,
   "id": "initial_id",
   "metadata": {
    "ExecuteTime": {
     "end_time": "2024-12-20T09:12:27.328880Z",
     "start_time": "2024-12-20T09:12:27.326293Z"
    },
    "collapsed": true
   },
   "outputs": [],
   "source": [
    "# Imports \n",
    "import GetTripModel\n",
    "import importlib"
   ]
  },
  {
   "cell_type": "code",
   "execution_count": 2,
   "id": "a347ffc1",
   "metadata": {},
   "outputs": [],
   "source": [
    "model = None"
   ]
  },
  {
   "cell_type": "code",
   "execution_count": 12,
   "id": "65afba73",
   "metadata": {},
   "outputs": [],
   "source": [
    "importlib.reload(GetTripModel)\n",
    "\n",
    "class TrainingGetTripModel(GetTripModel.SpacyGetTripModel):\n",
    "    def prepare_data(self, data):\n",
    "        prepared_data = []\n",
    "        for item in data:\n",
    "            text = item['sentence']\n",
    "            ents = []\n",
    "            # This model only works with real trip sentences, ie with a departure and an arrival\n",
    "            if len(item['entities']) != 2:\n",
    "                continue\n",
    "            for ent in item['entities']:\n",
    "                ents.append((ent['start'], ent['end'], ent['label']))\n",
    "\n",
    "            prepared_data.append((text, {\"entities\": ents}))\n",
    "        return prepared_data\n",
    "\n",
    "# Refresh the methods of the model if it was already instanciated\n",
    "if model:\n",
    "    model.__class__ = TrainingGetTripModel\n",
    "    TrainingGetTripModel.refresh_methods(model)"
   ]
  },
  {
   "cell_type": "code",
   "execution_count": 13,
   "id": "fae8d7816c1c7bbe",
   "metadata": {
    "ExecuteTime": {
     "end_time": "2024-12-20T09:12:28.782344Z",
     "start_time": "2024-12-20T09:12:28.768820Z"
    }
   },
   "outputs": [],
   "source": [
    "# Load data\n",
    "model = TrainingGetTripModel()"
   ]
  },
  {
   "cell_type": "markdown",
   "id": "8060589f48f4c9",
   "metadata": {},
   "source": [
    "# Training"
   ]
  },
  {
   "cell_type": "code",
   "execution_count": 14,
   "id": "992393ef5a9bfc56",
   "metadata": {
    "ExecuteTime": {
     "end_time": "2024-12-20T09:12:30.577402Z",
     "start_time": "2024-12-20T09:12:30.343880Z"
    }
   },
   "outputs": [
    {
     "name": "stdout",
     "output_type": "stream",
     "text": [
      "Exemples positifs : 2415, Exemples négatifs : 0\n",
      "Exemple d'entraînement : ('je pars de la ferte-sous-jouarre pour aller à bois-le-roi ce week-end avec ma famille.', {'entities': [(11, 32, 'VILLE_DEPART'), (46, 57, 'VILLE_DESTINATION')]})\n"
     ]
    }
   ],
   "source": [
    "num_positives = len([item for item in model.train_data if len(item[1][\"entities\"]) > 0])\n",
    "num_negatives = len([item for item in model.train_data if len(item[1][\"entities\"]) == 0])\n",
    "print(f\"Exemples positifs : {num_positives}, Exemples négatifs : {num_negatives}\")\n",
    "print(f\"Exemple d'entraînement : {model.train_data[0]}\")\n"
   ]
  },
  {
   "cell_type": "code",
   "execution_count": 15,
   "id": "ac1f89e7342e497e",
   "metadata": {
    "ExecuteTime": {
     "end_time": "2024-12-20T09:12:34.486296Z",
     "start_time": "2024-12-20T09:12:33.294861Z"
    }
   },
   "outputs": [],
   "source": [
    "# Model creation\n",
    "model.load_model(\"fr_core_news_md\")"
   ]
  },
  {
   "cell_type": "code",
   "execution_count": 16,
   "id": "21b70bb4744d51ac",
   "metadata": {
    "ExecuteTime": {
     "end_time": "2024-12-20T09:21:18.816613Z",
     "start_time": "2024-12-20T09:12:35.646124Z"
    }
   },
   "outputs": [
    {
     "name": "stdout",
     "output_type": "stream",
     "text": [
      "Iteration 1, losses : {'ner': 1407.7627584500256}\n",
      "Iteration 2, losses : {'ner': 56.945424311085134}\n",
      "Iteration 3, losses : {'ner': 16.802522524268742}\n",
      "Iteration 4, losses : {'ner': 34.74233306029323}\n",
      "Iteration 5, losses : {'ner': 35.88434957174362}\n",
      "Iteration 6, losses : {'ner': 59.649397002243276}\n",
      "Iteration 7, losses : {'ner': 69.84481318450527}\n",
      "Iteration 8, losses : {'ner': 34.78488659255137}\n",
      "Iteration 9, losses : {'ner': 12.580144885682543}\n",
      "Iteration 10, losses : {'ner': 3.1699485930258438}\n"
     ]
    }
   ],
   "source": [
    "# Training\n",
    "model.train(3, drop=0.30)"
   ]
  },
  {
   "cell_type": "code",
   "execution_count": 17,
   "id": "b72664f24a335467",
   "metadata": {
    "ExecuteTime": {
     "end_time": "2024-12-20T09:21:23.815830Z",
     "start_time": "2024-12-20T09:21:23.419592Z"
    }
   },
   "outputs": [],
   "source": [
    "# Save the model\n",
    "model.save(\"model_ner_trained\")"
   ]
  },
  {
   "cell_type": "markdown",
   "id": "10fdd9955d829df",
   "metadata": {},
   "source": [
    "# Testing"
   ]
  },
  {
   "cell_type": "code",
   "execution_count": 18,
   "id": "e373a0cf049206e",
   "metadata": {
    "ExecuteTime": {
     "end_time": "2024-12-20T09:22:20.418572Z",
     "start_time": "2024-12-20T09:22:20.179577Z"
    }
   },
   "outputs": [
    {
     "name": "stdout",
     "output_type": "stream",
     "text": [
      "Model: Trained model\n"
     ]
    },
    {
     "data": {
      "image/png": "[encoded data removed]",
      "text/plain": [
       "<Figure size 640x480 with 1 Axes>"
      ]
     },
     "metadata": {},
     "output_type": "display_data"
    },
    {
     "data": {
      "text/plain": [
       "{'token_acc': 1.0,\n",
       " 'token_p': 1.0,\n",
       " 'token_r': 1.0,\n",
       " 'token_f': 1.0,\n",
       " 'pos_acc': None,\n",
       " 'morph_acc': None,\n",
       " 'morph_micro_p': None,\n",
       " 'morph_micro_r': None,\n",
       " 'morph_micro_f': None,\n",
       " 'morph_per_feat': None,\n",
       " 'sents_p': None,\n",
       " 'sents_r': None,\n",
       " 'sents_f': None,\n",
       " 'dep_uas': None,\n",
       " 'dep_las': None,\n",
       " 'dep_las_per_type': None,\n",
       " 'tag_acc': None,\n",
       " 'lemma_acc': None,\n",
       " 'ents_p': 0.9837189374464439,\n",
       " 'ents_r': 0.9811965811965812,\n",
       " 'ents_f': 0.9824561403508772,\n",
       " 'ents_per_type': {'VILLE_DEPART': {'p': 0.9930795847750865,\n",
       "   'r': 0.9811965811965812,\n",
       "   'f': 0.9871023215821152},\n",
       "  'VILLE_DESTINATION': {'p': 0.9745331069609507,\n",
       "   'r': 0.9811965811965812,\n",
       "   'f': 0.9778534923339012}}}"
      ]
     },
     "execution_count": 18,
     "metadata": {},
     "output_type": "execute_result"
    }
   ],
   "source": [
    "model.evaluate_model(model.test_data, \"Trained model\")"
   ]
  },
  {
   "cell_type": "markdown",
   "id": "ecd7f9b0ea39b9ff",
   "metadata": {},
   "source": [
    "# Validation"
   ]
  },
  {
   "cell_type": "code",
   "execution_count": 19,
   "id": "e4a75f95d6e9df10",
   "metadata": {
    "ExecuteTime": {
     "end_time": "2024-12-20T09:22:55.339727Z",
     "start_time": "2024-12-20T09:22:40.399795Z"
    }
   },
   "outputs": [
    {
     "name": "stdout",
     "output_type": "stream",
     "text": [
      "Model: Trained model\n"
     ]
    },
    {
     "data": {
      "image/png": "[encoded data removed]",
      "text/plain": [
       "<Figure size 640x480 with 1 Axes>"
      ]
     },
     "metadata": {},
     "output_type": "display_data"
    },
    {
     "data": {
      "text/plain": [
       "{'token_acc': 1.0,\n",
       " 'token_p': 1.0,\n",
       " 'token_r': 1.0,\n",
       " 'token_f': 1.0,\n",
       " 'pos_acc': None,\n",
       " 'morph_acc': None,\n",
       " 'morph_micro_p': None,\n",
       " 'morph_micro_r': None,\n",
       " 'morph_micro_f': None,\n",
       " 'morph_per_feat': None,\n",
       " 'sents_p': None,\n",
       " 'sents_r': None,\n",
       " 'sents_f': None,\n",
       " 'dep_uas': None,\n",
       " 'dep_las': None,\n",
       " 'dep_las_per_type': None,\n",
       " 'tag_acc': None,\n",
       " 'lemma_acc': None,\n",
       " 'ents_p': 0.7167019027484144,\n",
       " 'ents_r': 0.5085,\n",
       " 'ents_f': 0.5949107926294237,\n",
       " 'ents_per_type': {'VILLE_DEPART': {'p': 0.7066395663956639,\n",
       "   'r': 0.5215,\n",
       "   'f': 0.6001150747986191},\n",
       "  'VILLE_DESTINATION': {'p': 0.7276064610866373,\n",
       "   'r': 0.4955,\n",
       "   'f': 0.5895300416418797}}}"
      ]
     },
     "execution_count": 19,
     "metadata": {},
     "output_type": "execute_result"
    }
   ],
   "source": [
    "model.evaluate_model(model.validation_data, \"Trained model\")"
   ]
  },
  {
   "cell_type": "markdown",
   "id": "fc53bbd0f425acb3",
   "metadata": {},
   "source": []
  }
 ],
 "metadata": {
  "kernelspec": {
   "display_name": "venv",
   "language": "python",
   "name": "python3"
  },
  "language_info": {
   "codemirror_mode": {
    "name": "ipython",
    "version": 3
   },
   "file_extension": ".py",
   "mimetype": "text/x-python",
   "name": "python",
   "nbconvert_exporter": "python",
   "pygments_lexer": "ipython3",
   "version": "3.12.7"
  }
 },
 "nbformat": 4,
 "nbformat_minor": 5
}
