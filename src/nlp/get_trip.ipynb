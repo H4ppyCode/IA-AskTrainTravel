{
 "cells": [
  {
   "cell_type": "code",
   "execution_count": 1,
   "id": "initial_id",
   "metadata": {
    "ExecuteTime": {
     "end_time": "2025-01-24T10:39:21.371706Z",
     "start_time": "2025-01-24T10:39:21.368957Z"
    },
    "collapsed": true
   },
   "outputs": [],
   "source": [
    "# Imports \n",
    "import sys\n",
    "import os\n",
    "sys.path.insert(0, os.path.abspath(os.path.join(os.path.abspath(''), '..')))\n",
    "import GetTripModel\n",
    "import importlib"
   ]
  },
  {
   "cell_type": "code",
   "execution_count": 2,
   "id": "a347ffc1",
   "metadata": {
    "ExecuteTime": {
     "end_time": "2025-01-24T10:39:22.485017Z",
     "start_time": "2025-01-24T10:39:22.475983Z"
    }
   },
   "outputs": [],
   "source": [
    "model = None"
   ]
  },
  {
   "cell_type": "code",
   "execution_count": 3,
   "id": "65afba73",
   "metadata": {
    "ExecuteTime": {
     "end_time": "2025-01-24T10:39:23.432174Z",
     "start_time": "2025-01-24T10:39:23.427271Z"
    }
   },
   "outputs": [],
   "source": [
    "importlib.reload(GetTripModel)\n",
    "\n",
    "class TrainingGetTripModel(GetTripModel.SpacyGetTripModel):\n",
    "    def prepare_data(self, data):\n",
    "        prepared_data = []\n",
    "        for item in data:\n",
    "            text = item['sentence']\n",
    "            ents = []\n",
    "            # This model only works with real trip sentences, ie with a departure and an arrival\n",
    "            if len(item['entities']) != 2:\n",
    "                continue\n",
    "            for ent in item['entities']:\n",
    "                ents.append((ent['start'], ent['end'], ent['label']))\n",
    "            # Test for overlap\n",
    "            if max(item['entities'][0]['start'], item['entities'][1]['start']) < min(item['entities'][0]['end'], item['entities'][1]['end']):\n",
    "                continue\n",
    "\n",
    "            prepared_data.append((text, {\"entities\": ents}))\n",
    "        return prepared_data\n",
    "\n",
    "# Refresh the methods of the model if it was already instanciated\n",
    "if model:\n",
    "    model.__class__ = TrainingGetTripModel\n",
    "    TrainingGetTripModel.refresh_methods(model)"
   ]
  },
  {
   "cell_type": "code",
   "execution_count": 4,
   "id": "fae8d7816c1c7bbe",
   "metadata": {
    "ExecuteTime": {
     "end_time": "2025-01-24T10:39:30.959513Z",
     "start_time": "2025-01-24T10:39:30.955305Z"
    }
   },
   "outputs": [],
   "source": [
    "# Load data\n",
    "model = TrainingGetTripModel()"
   ]
  },
  {
   "cell_type": "markdown",
   "id": "8060589f48f4c9",
   "metadata": {},
   "source": [
    "# Training"
   ]
  },
  {
   "cell_type": "code",
   "execution_count": 5,
   "id": "992393ef5a9bfc56",
   "metadata": {
    "ExecuteTime": {
     "end_time": "2025-01-24T10:39:32.292725Z",
     "start_time": "2025-01-24T10:39:32.268060Z"
    }
   },
   "outputs": [
    {
     "name": "stdout",
     "output_type": "stream",
     "text": [
      "Exemples positifs : 3994, Exemples négatifs : 0\n",
      "Exemple d'entraînement : ('je dois aller de plounerin à salome en train, quels sont les horaires disponibles demain ?', {'entities': [(17, 26, 'VILLE_DEPART'), (29, 35, 'VILLE_DESTINATION')]})\n"
     ]
    }
   ],
   "source": [
    "num_positives = len([item for item in model.train_data if len(item[1][\"entities\"]) > 0])\n",
    "num_negatives = len([item for item in model.train_data if len(item[1][\"entities\"]) == 0])\n",
    "print(f\"Exemples positifs : {num_positives}, Exemples négatifs : {num_negatives}\")\n",
    "print(f\"Exemple d'entraînement : {model.train_data[0]}\")\n"
   ]
  },
  {
   "cell_type": "code",
   "execution_count": 6,
   "id": "ac1f89e7342e497e",
   "metadata": {
    "ExecuteTime": {
     "end_time": "2025-01-24T10:39:35.514696Z",
     "start_time": "2025-01-24T10:39:34.069508Z"
    }
   },
   "outputs": [],
   "source": [
    "# Model creation\n",
    "model.load_model(\"fr_core_news_md\")"
   ]
  },
  {
   "cell_type": "code",
   "execution_count": 7,
   "id": "21b70bb4744d51ac",
   "metadata": {
    "ExecuteTime": {
     "end_time": "2025-01-24T10:42:33.157713Z",
     "start_time": "2025-01-24T10:39:37.638476Z"
    }
   },
   "outputs": [
    {
     "name": "stdout",
     "output_type": "stream",
     "text": [
      "Iteration 1, losses : {'ner': 2217.9030715437116}\n",
      "Iteration 2, losses : {'ner': 663.6107663548389}\n",
      "Iteration 3, losses : {'ner': 475.4333369757489}\n",
      "Iteration 4, losses : {'ner': 320.615310359056}\n",
      "Iteration 5, losses : {'ner': 341.9739290861751}\n",
      "Iteration 6, losses : {'ner': 300.7021124168088}\n",
      "Iteration 7, losses : {'ner': 213.46203846892192}\n",
      "Iteration 8, losses : {'ner': 217.34882681098566}\n",
      "Iteration 9, losses : {'ner': 204.01500924676319}\n",
      "Iteration 10, losses : {'ner': 173.1315842228459}\n",
      "Iteration 11, losses : {'ner': 160.58245926558075}\n",
      "Iteration 12, losses : {'ner': 167.49119133269554}\n",
      "Iteration 13, losses : {'ner': 150.3602147695652}\n",
      "Iteration 14, losses : {'ner': 134.66324244888511}\n",
      "Iteration 15, losses : {'ner': 168.377847356138}\n"
     ]
    }
   ],
   "source": [
    "# Training\n",
    "model.train(15, drop=0.30)"
   ]
  },
  {
   "cell_type": "code",
   "execution_count": 8,
   "id": "b72664f24a335467",
   "metadata": {
    "ExecuteTime": {
     "end_time": "2025-01-24T10:42:35.630407Z",
     "start_time": "2025-01-24T10:42:35.242933Z"
    }
   },
   "outputs": [],
   "source": [
    "# Save the model\n",
    "model.save(\"model_ner_trained\")"
   ]
  },
  {
   "cell_type": "markdown",
   "id": "10fdd9955d829df",
   "metadata": {},
   "source": [
    "# Testing"
   ]
  },
  {
   "cell_type": "code",
   "execution_count": 9,
   "id": "e373a0cf049206e",
   "metadata": {
    "ExecuteTime": {
     "end_time": "2025-01-24T10:44:00.156757Z",
     "start_time": "2025-01-24T10:43:55.774893Z"
    }
   },
   "outputs": [
    {
     "name": "stdout",
     "output_type": "stream",
     "text": [
      "Model: Trained model\n"
     ]
    },
    {
     "data": {
      "image/png": "[encoded data removed]",
      "text/plain": [
       "<Figure size 640x480 with 1 Axes>"
      ]
     },
     "metadata": {},
     "output_type": "display_data"
    },
    {
     "data": {
      "text/plain": [
       "{'token_acc': 1.0,\n",
       " 'token_p': 1.0,\n",
       " 'token_r': 1.0,\n",
       " 'token_f': 1.0,\n",
       " 'pos_acc': None,\n",
       " 'morph_acc': None,\n",
       " 'morph_micro_p': None,\n",
       " 'morph_micro_r': None,\n",
       " 'morph_micro_f': None,\n",
       " 'morph_per_feat': None,\n",
       " 'sents_p': None,\n",
       " 'sents_r': None,\n",
       " 'sents_f': None,\n",
       " 'dep_uas': None,\n",
       " 'dep_las': None,\n",
       " 'dep_las_per_type': None,\n",
       " 'tag_acc': None,\n",
       " 'lemma_acc': None,\n",
       " 'ents_p': 0.9768028240040343,\n",
       " 'ents_r': 0.9646414342629482,\n",
       " 'ents_f': 0.9706840390879478,\n",
       " 'ents_per_type': {'VILLE_DEPART': {'p': 0.9836567926455567,\n",
       "   'r': 0.9591633466135459,\n",
       "   'f': 0.9712556732223903},\n",
       "  'VILLE_DESTINATION': {'p': 0.9701195219123506,\n",
       "   'r': 0.9701195219123506,\n",
       "   'f': 0.9701195219123506}}}"
      ]
     },
     "execution_count": 9,
     "metadata": {},
     "output_type": "execute_result"
    }
   ],
   "source": [
    "model.evaluate_model(model.test_data, \"Trained model\")"
   ]
  },
  {
   "cell_type": "markdown",
   "id": "ecd7f9b0ea39b9ff",
   "metadata": {},
   "source": [
    "# Validation"
   ]
  },
  {
   "cell_type": "code",
   "execution_count": 10,
   "id": "e4a75f95d6e9df10",
   "metadata": {
    "ExecuteTime": {
     "end_time": "2025-01-24T10:42:50.005149Z",
     "start_time": "2025-01-24T10:42:48.824250Z"
    }
   },
   "outputs": [
    {
     "name": "stdout",
     "output_type": "stream",
     "text": [
      "Model: Trained model\n"
     ]
    },
    {
     "data": {
      "image/png": "[encoded data removed]",
      "text/plain": [
       "<Figure size 640x480 with 1 Axes>"
      ]
     },
     "metadata": {},
     "output_type": "display_data"
    },
    {
     "data": {
      "text/plain": [
       "{'token_acc': 1.0,\n",
       " 'token_p': 1.0,\n",
       " 'token_r': 1.0,\n",
       " 'token_f': 1.0,\n",
       " 'pos_acc': None,\n",
       " 'morph_acc': None,\n",
       " 'morph_micro_p': None,\n",
       " 'morph_micro_r': None,\n",
       " 'morph_micro_f': None,\n",
       " 'morph_per_feat': None,\n",
       " 'sents_p': None,\n",
       " 'sents_r': None,\n",
       " 'sents_f': None,\n",
       " 'dep_uas': None,\n",
       " 'dep_las': None,\n",
       " 'dep_las_per_type': None,\n",
       " 'tag_acc': None,\n",
       " 'lemma_acc': None,\n",
       " 'ents_p': 0.9160997732426304,\n",
       " 'ents_r': 0.8977777777777778,\n",
       " 'ents_f': 0.9068462401795735,\n",
       " 'ents_per_type': {'VILLE_DEPART': {'p': 0.9004329004329005,\n",
       "   'r': 0.9244444444444444,\n",
       "   'f': 0.912280701754386},\n",
       "  'VILLE_DESTINATION': {'p': 0.9333333333333333,\n",
       "   'r': 0.8711111111111111,\n",
       "   'f': 0.9011494252873562}}}"
      ]
     },
     "execution_count": 10,
     "metadata": {},
     "output_type": "execute_result"
    }
   ],
   "source": [
    "model.evaluate_model(model.validation_data, \"Trained model\")"
   ]
  },
  {
   "cell_type": "markdown",
   "id": "fc53bbd0f425acb3",
   "metadata": {},
   "source": []
  }
 ],
 "metadata": {
  "kernelspec": {
   "display_name": "venv",
   "language": "python",
   "name": "python3"
  },
  "language_info": {
   "codemirror_mode": {
    "name": "ipython",
    "version": 3
   },
   "file_extension": ".py",
   "mimetype": "text/x-python",
   "name": "python",
   "nbconvert_exporter": "python",
   "pygments_lexer": "ipython3",
   "version": "3.12.7"
  }
 },
 "nbformat": 4,
 "nbformat_minor": 5
}
