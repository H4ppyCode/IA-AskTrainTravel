{
 "cells": [
  {
   "cell_type": "code",
   "execution_count": 2,
   "id": "initial_id",
   "metadata": {
    "ExecuteTime": {
     "end_time": "2024-12-20T09:12:27.328880Z",
     "start_time": "2024-12-20T09:12:27.326293Z"
    },
    "collapsed": true
   },
   "outputs": [],
   "source": [
    "# Imports \n",
    "import spacy\n",
    "import random\n",
    "import json\n",
    "import matplotlib.pyplot as plt\n",
    "import seaborn as sns\n",
    "\n",
    "from spacy.util import minibatch, compounding\n",
    "from spacy.training.example import Example\n",
    "from sklearn.metrics import confusion_matrix, classification_report"
   ]
  },
  {
   "cell_type": "code",
   "execution_count": 3,
   "id": "fae8d7816c1c7bbe",
   "metadata": {
    "ExecuteTime": {
     "end_time": "2024-12-20T09:12:28.782344Z",
     "start_time": "2024-12-20T09:12:28.768820Z"
    }
   },
   "outputs": [],
   "source": [
    "# Load data\n",
    "with open('../nlpDataSet/train.json', 'r') as file:\n",
    "    data = json.load(file)\n",
    "with open('../nlpDataSet/test.json', 'r') as file:\n",
    "    test_data = json.load(file)"
   ]
  },
  {
   "cell_type": "markdown",
   "id": "8060589f48f4c9",
   "metadata": {},
   "source": [
    "# Training"
   ]
  },
  {
   "cell_type": "code",
   "execution_count": 19,
   "id": "992393ef5a9bfc56",
   "metadata": {
    "ExecuteTime": {
     "end_time": "2024-12-20T09:12:30.577402Z",
     "start_time": "2024-12-20T09:12:30.343880Z"
    }
   },
   "outputs": [
    {
     "name": "stdout",
     "output_type": "stream",
     "text": [
      "Number of travels : 2414, number of non travels : 2386\n",
      "Training example : (\"je vais de walheim à exideuil-sur-vienne pour un voyage d'affaires lundi prochain.\", {'cats': {'TRAVEL': True, 'NOT_TRAVEL': False}})\n"
     ]
    }
   ],
   "source": [
    "def prepare_data(data):\n",
    "    prepared_data = []\n",
    "    for item in data:\n",
    "        text = item['sentence']\n",
    "        # We consider a travel when exactly two entities are present\n",
    "        # We may modify this later to handle more complex travels with a list of checkpoints (like Nantes -> Paris -> Marseille)\n",
    "        is_travel = len(item['entities']) == 2\n",
    "        prepared_data.append((text, {\"cats\": {\"TRAVEL\": is_travel, \"NOT_TRAVEL\": not is_travel}}))\n",
    "    return prepared_data\n",
    "# Data preparation\n",
    "train_data = prepare_data(data)\n",
    "test_data = prepare_data(test_data)\n",
    "\n",
    "num_positives = len([item for item in train_data if item[1][\"cats\"][\"TRAVEL\"]])\n",
    "num_negatives = len([item for item in train_data if item[1][\"cats\"][\"NOT_TRAVEL\"]])\n",
    "print(f\"Number of travels : {num_positives}, number of non travels : {num_negatives}\")\n",
    "print(f\"Training example : {train_data[0]}\")\n"
   ]
  },
  {
   "cell_type": "code",
   "execution_count": 14,
   "id": "ac1f89e7342e497e",
   "metadata": {
    "ExecuteTime": {
     "end_time": "2024-12-20T09:12:34.486296Z",
     "start_time": "2024-12-20T09:12:33.294861Z"
    }
   },
   "outputs": [
    {
     "data": {
      "text/plain": [
       "1"
      ]
     },
     "execution_count": 14,
     "metadata": {},
     "output_type": "execute_result"
    }
   ],
   "source": [
    "# Model creation\n",
    "nlp = spacy.load(\"fr_core_news_md\")\n",
    "\n",
    "if \"textcat\" not in nlp.pipe_names:\n",
    "    textcat = nlp.add_pipe(\"textcat\", last=True)\n",
    "else:\n",
    "    textcat = nlp.get_pipe(\"textcat\")\n",
    "textcat.add_label(\"TRAVEL\")\n",
    "textcat.add_label(\"NOT_TRAVEL\")\n",
    "\n",
    "# # Make sure that the model handles no-entity examples correctly\n",
    "# optimizer = nlp.resume_training()\n"
   ]
  },
  {
   "cell_type": "code",
   "execution_count": 15,
   "id": "21b70bb4744d51ac",
   "metadata": {
    "ExecuteTime": {
     "end_time": "2024-12-20T09:21:18.816613Z",
     "start_time": "2024-12-20T09:12:35.646124Z"
    }
   },
   "outputs": [
    {
     "name": "stdout",
     "output_type": "stream",
     "text": [
      "Itération 1, losses : {'textcat': 12.094390078069386}\n",
      "Itération 2, losses : {'textcat': 0.001868906839111089}\n",
      "Itération 3, losses : {'textcat': 0.15261229451501085}\n",
      "Itération 4, losses : {'textcat': 1.1252493353892038e-07}\n",
      "Itération 5, losses : {'textcat': 3.385133096991288e-06}\n",
      "Itération 6, losses : {'textcat': 3.427434977525183e-09}\n",
      "Itération 7, losses : {'textcat': 2.3521785230769512e-08}\n",
      "Itération 8, losses : {'textcat': 1.1828413343040622e-09}\n",
      "Itération 9, losses : {'textcat': 4.069599347638343e-09}\n",
      "Itération 10, losses : {'textcat': 3.108646526015088e-10}\n",
      "Itération 11, losses : {'textcat': 1.0888565969472437e-09}\n",
      "Itération 12, losses : {'textcat': 3.182452084715276e-11}\n",
      "Itération 13, losses : {'textcat': 3.370405214834154e-11}\n",
      "Itération 14, losses : {'textcat': 3.769044391426332e-12}\n",
      "Itération 15, losses : {'textcat': 1.4602650285690656e-12}\n",
      "Itération 16, losses : {'textcat': 6.223899300881585e-12}\n",
      "Itération 17, losses : {'textcat': 7.62627429423012e-13}\n",
      "Itération 18, losses : {'textcat': 3.7082866581849754e-13}\n",
      "Itération 19, losses : {'textcat': 1.450231156491912e-13}\n",
      "Itération 20, losses : {'textcat': 1.0149030914319483e-13}\n"
     ]
    }
   ],
   "source": [
    "# Training\n",
    "other_pipes = [pipe for pipe in nlp.pipe_names if pipe != 'textcat']\n",
    "with nlp.disable_pipes(*other_pipes):\n",
    "    n_iter = 10\n",
    "    optimizer = nlp.begin_training()\n",
    "    for itn in range(n_iter):\n",
    "        random.shuffle(train_data)\n",
    "        losses = {}\n",
    "        batches = minibatch(train_data, size=compounding(4.0, 32.0, 1.001))\n",
    "        for batch in batches:\n",
    "            texts, annotations = zip(*batch)\n",
    "            examples = [Example.from_dict(nlp.make_doc(text), ann) for text, ann in zip(texts, annotations)]\n",
    "            nlp.update(examples, drop=0.2, losses=losses)\n",
    "        print(f\"Itération {itn + 1}, losses : {losses}\")"
   ]
  },
  {
   "cell_type": "code",
   "execution_count": 16,
   "id": "b72664f24a335467",
   "metadata": {
    "ExecuteTime": {
     "end_time": "2024-12-20T09:21:23.815830Z",
     "start_time": "2024-12-20T09:21:23.419592Z"
    }
   },
   "outputs": [],
   "source": [
    "# Save the model\n",
    "nlp.to_disk(\"model_is_trip_trained\")"
   ]
  },
  {
   "cell_type": "markdown",
   "id": "10fdd9955d829df",
   "metadata": {},
   "source": [
    "# Testing"
   ]
  },
  {
   "cell_type": "code",
   "execution_count": 17,
   "id": "89c39e0baaf8d310",
   "metadata": {
    "ExecuteTime": {
     "end_time": "2024-12-20T09:21:28.228440Z",
     "start_time": "2024-12-20T09:21:25.756996Z"
    }
   },
   "outputs": [],
   "source": [
    "nlp_trained = spacy.load(\"model_is_trip_trained\")\n",
    "nlp_not_trained = spacy.load(\"fr_core_news_md\")"
   ]
  },
  {
   "cell_type": "code",
   "execution_count": 31,
   "id": "322259d58da0ec2c",
   "metadata": {
    "ExecuteTime": {
     "end_time": "2024-12-20T09:21:44.803937Z",
     "start_time": "2024-12-20T09:21:44.801032Z"
    }
   },
   "outputs": [
    {
     "name": "stdout",
     "output_type": "stream",
     "text": [
      "TRAVEL\n",
      "{'TRAVEL': 1.0, 'NOT_TRAVEL': 6.294798710060334e-11} TRAVEL\n"
     ]
    }
   ],
   "source": [
    "sentences = [item[0] for item in test_data]\n",
    "true_labels = [max(item[1]['cats'], key=item[1]['cats'].get) for item in test_data]\n",
    "print(true_labels[0])\n",
    "doc = nlp_trained(sentences[0])\n",
    "predicted = max(doc.cats, key=doc.cats.get)\n",
    "print(doc.cats, predicted)"
   ]
  },
  {
   "cell_type": "code",
   "execution_count": 32,
   "id": "82a7c3bef501242c",
   "metadata": {
    "ExecuteTime": {
     "end_time": "2024-12-20T09:21:47.009271Z",
     "start_time": "2024-12-20T09:21:47.006371Z"
    }
   },
   "outputs": [],
   "source": [
    "# Prediction\n",
    "def get_pred_labels(nlp_model, sentences):\n",
    "    pred_labels = []\n",
    "    for sentence in sentences:\n",
    "        doc = nlp_model(sentence)\n",
    "        predicted = max(doc.cats, key=doc.cats.get)\n",
    "        pred_labels.append(predicted)\n",
    "    return pred_labels "
   ]
  },
  {
   "cell_type": "code",
   "execution_count": 33,
   "id": "d9cf037085026f92",
   "metadata": {
    "ExecuteTime": {
     "end_time": "2024-12-20T09:21:48.380864Z",
     "start_time": "2024-12-20T09:21:48.377400Z"
    }
   },
   "outputs": [],
   "source": [
    "# Conversion of true and predicted labels\n",
    "def convert_labels(true_labels, pred_labels):\n",
    "    y_true = []\n",
    "    y_pred = []\n",
    "    for true, pred in zip(true_labels, pred_labels):\n",
    "        y_true.append(true == 'TRAVEL')\n",
    "        y_pred.append(pred == 'TRAVEL')\n",
    "    \n",
    "    return y_true, y_pred"
   ]
  },
  {
   "cell_type": "code",
   "execution_count": 34,
   "id": "423c2a51186000cb",
   "metadata": {
    "ExecuteTime": {
     "end_time": "2024-12-20T09:21:51.447882Z",
     "start_time": "2024-12-20T09:21:51.444588Z"
    }
   },
   "outputs": [],
   "source": [
    "# Adjusting the labels of the not trained model because it doesn't have the 'VILLE_DEPART' and 'VILLE_DESTINATION' labels\n",
    "def adjust_not_trained_labels(pred_labels):\n",
    "    adjusted_labels = []\n",
    "    for labels in pred_labels:\n",
    "        adjusted = []\n",
    "        for i, (start, end, label) in enumerate(labels):\n",
    "            if label == 'LOC':\n",
    "                if i == 0: \n",
    "                    adjusted.append((start, end, 'VILLE_DEPART'))\n",
    "                else:\n",
    "                    adjusted.append((start, end, 'VILLE_DESTINATION'))\n",
    "            else:\n",
    "                adjusted.append((start, end, label))\n",
    "        adjusted_labels.append(adjusted)\n",
    "    return adjusted_labels"
   ]
  },
  {
   "cell_type": "code",
   "execution_count": 35,
   "id": "7e3babe610800fc9",
   "metadata": {
    "ExecuteTime": {
     "end_time": "2024-12-20T09:22:05.116685Z",
     "start_time": "2024-12-20T09:21:53.993798Z"
    }
   },
   "outputs": [],
   "source": [
    "pred_labels_trained = get_pred_labels(nlp_trained, sentences)\n",
    "# pred_labels_not_trained = get_pred_labels(nlp_not_trained, sentences)\n",
    "# adjusted_labels_not_trained = adjust_not_trained_labels(pred_labels_not_trained)"
   ]
  },
  {
   "cell_type": "code",
   "execution_count": 36,
   "id": "3c178f628ca6de6",
   "metadata": {
    "ExecuteTime": {
     "end_time": "2024-12-20T09:22:13.732175Z",
     "start_time": "2024-12-20T09:22:13.725805Z"
    }
   },
   "outputs": [],
   "source": [
    "y_true_trained, y_pred_trained = convert_labels(true_labels, pred_labels_trained)\n",
    "# y_true_not_trained, y_pred_not_trained = convert_labels(true_labels, adjusted_labels_not_trained)"
   ]
  },
  {
   "cell_type": "code",
   "execution_count": 37,
   "id": "54d795fe23838ddc",
   "metadata": {
    "ExecuteTime": {
     "end_time": "2024-12-20T09:22:14.979691Z",
     "start_time": "2024-12-20T09:22:14.977060Z"
    }
   },
   "outputs": [],
   "source": [
    "def plot_confusion_matrix(y_true, y_pred, model_name):\n",
    "    conf_matrix = confusion_matrix(y_true, y_pred)\n",
    "    plt.figure(figsize=(10, 7))\n",
    "    sns.heatmap(conf_matrix, annot=True, fmt='d', cmap='Blues')\n",
    "    plt.title(f'Confusion Matrix for {model_name}')\n",
    "    plt.xlabel('Predicted')\n",
    "    plt.ylabel('True')\n",
    "    plt.show()"
   ]
  },
  {
   "cell_type": "code",
   "execution_count": 38,
   "id": "516467b93fb5e0f4",
   "metadata": {
    "ExecuteTime": {
     "end_time": "2024-12-20T09:22:17.209428Z",
     "start_time": "2024-12-20T09:22:17.205944Z"
    }
   },
   "outputs": [],
   "source": [
    "# Evaluation\n",
    "def evaluate_model(y_true, y_pred, model_name):\n",
    "    print(f\"Model: {model_name}\")\n",
    "    \n",
    "    #  Confusion matrix\n",
    "    plot_confusion_matrix(y_true, y_pred, model_name)\n",
    "    \n",
    "    # Classification report\n",
    "    class_report = classification_report(y_true, y_pred)\n",
    "    print(\"Classification Report:\\n\", class_report)"
   ]
  },
  {
   "cell_type": "code",
   "execution_count": 39,
   "id": "e373a0cf049206e",
   "metadata": {
    "ExecuteTime": {
     "end_time": "2024-12-20T09:22:20.418572Z",
     "start_time": "2024-12-20T09:22:20.179577Z"
    }
   },
   "outputs": [
    {
     "name": "stdout",
     "output_type": "stream",
     "text": [
      "Model: Trained Model\n"
     ]
    },
    {
     "data": {
      "image/png": "[encoded data removed]",
      "text/plain": [
       "<Figure size 1000x700 with 2 Axes>"
      ]
     },
     "metadata": {},
     "output_type": "display_data"
    },
    {
     "name": "stdout",
     "output_type": "stream",
     "text": [
      "Classification Report:\n",
      "               precision    recall  f1-score   support\n",
      "\n",
      "       False       1.00      1.00      1.00       614\n",
      "        True       1.00      1.00      1.00       586\n",
      "\n",
      "    accuracy                           1.00      1200\n",
      "   macro avg       1.00      1.00      1.00      1200\n",
      "weighted avg       1.00      1.00      1.00      1200\n",
      "\n"
     ]
    }
   ],
   "source": [
    "evaluate_model(y_true_trained, y_pred_trained, \"Trained Model\")\n",
    "# evaluate_model(y_true_not_trained, y_pred_not_trained, \"Not Trained Model\")"
   ]
  },
  {
   "cell_type": "markdown",
   "id": "ecd7f9b0ea39b9ff",
   "metadata": {},
   "source": [
    "# Validation"
   ]
  },
  {
   "cell_type": "code",
   "execution_count": 41,
   "id": "e4a75f95d6e9df10",
   "metadata": {
    "ExecuteTime": {
     "end_time": "2024-12-20T09:22:55.339727Z",
     "start_time": "2024-12-20T09:22:40.399795Z"
    }
   },
   "outputs": [
    {
     "name": "stdout",
     "output_type": "stream",
     "text": [
      "Model: Trained Model\n"
     ]
    },
    {
     "data": {
      "image/png": "[encoded data removed]",
      "text/plain": [
       "<Figure size 1000x700 with 2 Axes>"
      ]
     },
     "metadata": {},
     "output_type": "display_data"
    },
    {
     "name": "stdout",
     "output_type": "stream",
     "text": [
      "Classification Report:\n",
      "               precision    recall  f1-score   support\n",
      "\n",
      "       False       0.94      0.67      0.78      1125\n",
      "        True       0.84      0.98      0.90      2000\n",
      "\n",
      "    accuracy                           0.87      3125\n",
      "   macro avg       0.89      0.82      0.84      3125\n",
      "weighted avg       0.88      0.87      0.86      3125\n",
      "\n"
     ]
    }
   ],
   "source": [
    "# Load validation data\n",
    "with open('../nlpDataSet/validation.json', 'r') as file:\n",
    "    validation_data = json.load(file)\n",
    "nlp_trained = spacy.load(\"model_is_trip_trained\")\n",
    "validation_data = prepare_data(validation_data)\n",
    "sentences = [item[0] for item in validation_data]\n",
    "true_labels = [max(item[1]['cats'], key=item[1]['cats'].get) for item in validation_data]\n",
    "pred_labels_trained = get_pred_labels(nlp_trained, sentences)\n",
    "y_true_trained, y_pred_trained = convert_labels(true_labels, pred_labels_trained)\n",
    "\n",
    "evaluate_model(y_true_trained, y_pred_trained, \"Trained Model\")"
   ]
  },
  {
   "cell_type": "markdown",
   "id": "fc53bbd0f425acb3",
   "metadata": {},
   "source": []
  }
 ],
 "metadata": {
  "kernelspec": {
   "display_name": "venv",
   "language": "python",
   "name": "python3"
  },
  "language_info": {
   "codemirror_mode": {
    "name": "ipython",
    "version": 3
   },
   "file_extension": ".py",
   "mimetype": "text/x-python",
   "name": "python",
   "nbconvert_exporter": "python",
   "pygments_lexer": "ipython3",
   "version": "3.12.7"
  }
 },
 "nbformat": 4,
 "nbformat_minor": 5
}
