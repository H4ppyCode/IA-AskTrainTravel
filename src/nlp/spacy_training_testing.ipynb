{
 "cells": [
  {
   "cell_type": "code",
   "execution_count": 1,
   "id": "initial_id",
   "metadata": {
    "ExecuteTime": {
     "end_time": "2024-12-20T09:12:27.328880Z",
     "start_time": "2024-12-20T09:12:27.326293Z"
    },
    "collapsed": true
   },
   "outputs": [],
   "source": [
    "# Imports \n",
    "import spacy\n",
    "import random\n",
    "import json\n",
    "import matplotlib.pyplot as plt\n",
    "import seaborn as sns\n",
    "\n",
    "from spacy.util import minibatch, compounding\n",
    "from spacy.training.example import Example\n",
    "from sklearn.metrics import confusion_matrix, classification_report\n",
    "import SpacyModel\n",
    "import importlib"
   ]
  },
  {
   "cell_type": "code",
   "execution_count": 2,
   "id": "a347ffc1",
   "metadata": {},
   "outputs": [],
   "source": [
    "model = None"
   ]
  },
  {
   "cell_type": "code",
   "execution_count": 3,
   "id": "65afba73",
   "metadata": {},
   "outputs": [],
   "source": [
    "importlib.reload(SpacyModel)\n",
    "\n",
    "class GetTripModel(SpacyModel.SpacyNerModel):\n",
    "    def __init__(self):\n",
    "        super().__init__([\"VILLE_DEPART\", \"VILLE_DESTINATION\"])\n",
    "\n",
    "    def prepare_data(self, data):\n",
    "        prepared_data = []\n",
    "        for item in data:\n",
    "            text = item['sentence']\n",
    "            ents = []\n",
    "            # This model only works with real trip sentences, ie with a departure and an arrival\n",
    "            if len(item['entities']) != 2:\n",
    "                continue\n",
    "            for ent in item['entities']:\n",
    "                ents.append((ent['start'], ent['end'], ent['label']))\n",
    "            if len(item['entities']) == 2:\n",
    "                ent1 = item['entities'][0]\n",
    "                ent2 = item['entities'][1]\n",
    "                # Skip the item if the entities overlap\n",
    "                if ent1['start'] < ent2['end'] and ent1['end'] > ent2['start']:\n",
    "                    continue\n",
    "\n",
    "            prepared_data.append((text, {\"entities\": ents}))\n",
    "        return prepared_data\n",
    "\n",
    "# Refresh the methods of the model if it was already instanciated\n",
    "if model:\n",
    "    model.__class__ = GetTripModel\n",
    "    GetTripModel.refresh_methods(model)"
   ]
  },
  {
   "cell_type": "code",
   "execution_count": 4,
   "id": "fae8d7816c1c7bbe",
   "metadata": {
    "ExecuteTime": {
     "end_time": "2024-12-20T09:12:28.782344Z",
     "start_time": "2024-12-20T09:12:28.768820Z"
    }
   },
   "outputs": [],
   "source": [
    "# Load data\n",
    "model = GetTripModel()"
   ]
  },
  {
   "cell_type": "markdown",
   "id": "8060589f48f4c9",
   "metadata": {},
   "source": [
    "# Training"
   ]
  },
  {
   "cell_type": "code",
   "execution_count": 5,
   "id": "992393ef5a9bfc56",
   "metadata": {
    "ExecuteTime": {
     "end_time": "2024-12-20T09:12:30.577402Z",
     "start_time": "2024-12-20T09:12:30.343880Z"
    }
   },
   "outputs": [
    {
     "name": "stdout",
     "output_type": "stream",
     "text": [
      "Exemples positifs : 2412, Exemples négatifs : 0\n",
      "Exemple d'entraînement : (\"je vais de walheim à exideuil-sur-vienne pour un voyage d'affaires lundi prochain.\", {'entities': [(11, 18, 'VILLE_DEPART'), (21, 40, 'VILLE_DESTINATION')]})\n"
     ]
    }
   ],
   "source": [
    "num_positives = len([item for item in model.train_data if len(item[1][\"entities\"]) > 0])\n",
    "num_negatives = len([item for item in model.train_data if len(item[1][\"entities\"]) == 0])\n",
    "print(f\"Exemples positifs : {num_positives}, Exemples négatifs : {num_negatives}\")\n",
    "print(f\"Exemple d'entraînement : {model.train_data[0]}\")\n"
   ]
  },
  {
   "cell_type": "code",
   "execution_count": 6,
   "id": "ac1f89e7342e497e",
   "metadata": {
    "ExecuteTime": {
     "end_time": "2024-12-20T09:12:34.486296Z",
     "start_time": "2024-12-20T09:12:33.294861Z"
    }
   },
   "outputs": [],
   "source": [
    "# Model creation\n",
    "model.load_model(\"fr_core_news_md\")"
   ]
  },
  {
   "cell_type": "code",
   "execution_count": 7,
   "id": "21b70bb4744d51ac",
   "metadata": {
    "ExecuteTime": {
     "end_time": "2024-12-20T09:21:18.816613Z",
     "start_time": "2024-12-20T09:12:35.646124Z"
    }
   },
   "outputs": [
    {
     "name": "stdout",
     "output_type": "stream",
     "text": [
      "Iteration 1, losses : {'ner': 1299.8038863518302}\n",
      "Iteration 2, losses : {'ner': 73.63461819857893}\n",
      "Iteration 3, losses : {'ner': 68.46904961055739}\n",
      "Iteration 4, losses : {'ner': 26.079767509799385}\n",
      "Iteration 5, losses : {'ner': 65.71446344602445}\n",
      "Iteration 6, losses : {'ner': 34.452844318634064}\n",
      "Iteration 7, losses : {'ner': 44.62283582468064}\n",
      "Iteration 8, losses : {'ner': 13.72346013099636}\n",
      "Iteration 9, losses : {'ner': 25.027301008719437}\n",
      "Iteration 10, losses : {'ner': 19.816158603462}\n"
     ]
    }
   ],
   "source": [
    "# Training\n",
    "model.train(10, drop=0.30)"
   ]
  },
  {
   "cell_type": "code",
   "execution_count": 8,
   "id": "b72664f24a335467",
   "metadata": {
    "ExecuteTime": {
     "end_time": "2024-12-20T09:21:23.815830Z",
     "start_time": "2024-12-20T09:21:23.419592Z"
    }
   },
   "outputs": [],
   "source": [
    "# Save the model\n",
    "model.save(\"model_ner_trained\")"
   ]
  },
  {
   "cell_type": "markdown",
   "id": "10fdd9955d829df",
   "metadata": {},
   "source": [
    "# Testing"
   ]
  },
  {
   "cell_type": "code",
   "execution_count": 9,
   "id": "e373a0cf049206e",
   "metadata": {
    "ExecuteTime": {
     "end_time": "2024-12-20T09:22:20.418572Z",
     "start_time": "2024-12-20T09:22:20.179577Z"
    }
   },
   "outputs": [
    {
     "name": "stdout",
     "output_type": "stream",
     "text": [
      "Model: Trained model\n"
     ]
    },
    {
     "data": {
      "image/png": "[encoded data removed]",
      "text/plain": [
       "<Figure size 640x480 with 1 Axes>"
      ]
     },
     "metadata": {},
     "output_type": "display_data"
    },
    {
     "data": {
      "text/plain": [
       "{'token_acc': 1.0,\n",
       " 'token_p': 1.0,\n",
       " 'token_r': 1.0,\n",
       " 'token_f': 1.0,\n",
       " 'pos_acc': None,\n",
       " 'morph_acc': None,\n",
       " 'morph_micro_p': None,\n",
       " 'morph_micro_r': None,\n",
       " 'morph_micro_f': None,\n",
       " 'morph_per_feat': None,\n",
       " 'sents_p': None,\n",
       " 'sents_r': None,\n",
       " 'sents_f': None,\n",
       " 'dep_uas': None,\n",
       " 'dep_las': None,\n",
       " 'dep_las_per_type': None,\n",
       " 'tag_acc': None,\n",
       " 'lemma_acc': None,\n",
       " 'ents_p': 0.9812126387702819,\n",
       " 'ents_r': 0.982051282051282,\n",
       " 'ents_f': 0.9816317812900469,\n",
       " 'ents_per_type': {'VILLE_DEPART': {'p': 0.9828473413379074,\n",
       "   'r': 0.9794871794871794,\n",
       "   'f': 0.9811643835616439},\n",
       "  'VILLE_DESTINATION': {'p': 0.9812606473594548,\n",
       "   'r': 0.9846153846153847,\n",
       "   'f': 0.9829351535836178},\n",
       "  'PER': {'p': 0.0, 'r': 0.0, 'f': 0.0}}}"
      ]
     },
     "execution_count": 9,
     "metadata": {},
     "output_type": "execute_result"
    }
   ],
   "source": [
    "model.evaluate_model(model.test_data, \"Trained model\")"
   ]
  },
  {
   "cell_type": "markdown",
   "id": "ecd7f9b0ea39b9ff",
   "metadata": {},
   "source": [
    "# Validation"
   ]
  },
  {
   "cell_type": "code",
   "execution_count": 10,
   "id": "e4a75f95d6e9df10",
   "metadata": {
    "ExecuteTime": {
     "end_time": "2024-12-20T09:22:55.339727Z",
     "start_time": "2024-12-20T09:22:40.399795Z"
    }
   },
   "outputs": [
    {
     "name": "stdout",
     "output_type": "stream",
     "text": [
      "Model: Trained model\n"
     ]
    },
    {
     "data": {
      "image/png": "[encoded data removed]",
      "text/plain": [
       "<Figure size 640x480 with 1 Axes>"
      ]
     },
     "metadata": {},
     "output_type": "display_data"
    },
    {
     "data": {
      "text/plain": [
       "{'token_acc': 1.0,\n",
       " 'token_p': 1.0,\n",
       " 'token_r': 1.0,\n",
       " 'token_f': 1.0,\n",
       " 'pos_acc': None,\n",
       " 'morph_acc': None,\n",
       " 'morph_micro_p': None,\n",
       " 'morph_micro_r': None,\n",
       " 'morph_micro_f': None,\n",
       " 'morph_per_feat': None,\n",
       " 'sents_p': None,\n",
       " 'sents_r': None,\n",
       " 'sents_f': None,\n",
       " 'dep_uas': None,\n",
       " 'dep_las': None,\n",
       " 'dep_las_per_type': None,\n",
       " 'tag_acc': None,\n",
       " 'lemma_acc': None,\n",
       " 'ents_p': 0.7417824466282616,\n",
       " 'ents_r': 0.54725,\n",
       " 'ents_f': 0.6298374334628112,\n",
       " 'ents_per_type': {'VILLE_DEPART': {'p': 0.6710526315789473,\n",
       "   'r': 0.561,\n",
       "   'f': 0.6111111111111113},\n",
       "  'VILLE_DESTINATION': {'p': 0.8355520751761942,\n",
       "   'r': 0.5335,\n",
       "   'f': 0.6512053707659445},\n",
       "  'PER': {'p': 0.0, 'r': 0.0, 'f': 0.0}}}"
      ]
     },
     "execution_count": 10,
     "metadata": {},
     "output_type": "execute_result"
    }
   ],
   "source": [
    "model.evaluate_model(model.validation_data, \"Trained model\")"
   ]
  },
  {
   "cell_type": "markdown",
   "id": "fc53bbd0f425acb3",
   "metadata": {},
   "source": []
  }
 ],
 "metadata": {
  "kernelspec": {
   "display_name": "venv",
   "language": "python",
   "name": "python3"
  },
  "language_info": {
   "codemirror_mode": {
    "name": "ipython",
    "version": 3
   },
   "file_extension": ".py",
   "mimetype": "text/x-python",
   "name": "python",
   "nbconvert_exporter": "python",
   "pygments_lexer": "ipython3",
   "version": "3.12.7"
  }
 },
 "nbformat": 4,
 "nbformat_minor": 5
}
