{
 "cells": [
  {
   "cell_type": "code",
   "id": "initial_id",
   "metadata": {
    "collapsed": true,
    "ExecuteTime": {
     "end_time": "2024-12-20T09:12:27.328880Z",
     "start_time": "2024-12-20T09:12:27.326293Z"
    }
   },
   "source": [
    "# Imports \n",
    "import spacy\n",
    "import random\n",
    "import json\n",
    "import matplotlib.pyplot as plt\n",
    "import seaborn as sns\n",
    "\n",
    "from spacy.util import minibatch, compounding\n",
    "from spacy.training.example import Example\n",
    "from sklearn.metrics import confusion_matrix, classification_report"
   ],
   "outputs": [],
   "execution_count": 12
  },
  {
   "metadata": {
    "ExecuteTime": {
     "end_time": "2024-12-20T09:12:28.782344Z",
     "start_time": "2024-12-20T09:12:28.768820Z"
    }
   },
   "cell_type": "code",
   "source": [
    "# Load data\n",
    "with open('../nlpDataSet/train.json', 'r') as file:\n",
    "    data = json.load(file)\n",
    "with open('../nlpDataSet/test.json', 'r') as file:\n",
    "    test_data = json.load(file)"
   ],
   "id": "fae8d7816c1c7bbe",
   "outputs": [],
   "execution_count": 13
  },
  {
   "metadata": {},
   "cell_type": "markdown",
   "source": "# Training",
   "id": "8060589f48f4c9"
  },
  {
   "metadata": {
    "ExecuteTime": {
     "end_time": "2024-12-20T09:12:30.577402Z",
     "start_time": "2024-12-20T09:12:30.343880Z"
    }
   },
   "cell_type": "code",
   "source": [
    "# Data preparation\n",
    "train_data = []\n",
    "for item in data:\n",
    "    text = item['sentence']\n",
    "    entities = item['entities']\n",
    "    ents = []\n",
    "    for ent in entities:\n",
    "        ents.append((ent['start'], ent['end'], ent['label']))\n",
    "    train_data.append((text, {\"entities\": ents}))\n",
    "    \n",
    "num_positives = len([item for item in train_data if len(item[1][\"entities\"]) > 0])\n",
    "num_negatives = len([item for item in train_data if len(item[1][\"entities\"]) == 0])\n",
    "print(f\"Exemples positifs : {num_positives}, Exemples négatifs : {num_negatives}\")\n",
    "\n",
    "print(f\"Exemple d'entraînement : {train_data[0]}\")\n"
   ],
   "id": "992393ef5a9bfc56",
   "outputs": [
    {
     "name": "stdout",
     "output_type": "stream",
     "text": [
      "Exemples positifs : 2429, Exemples négatifs : 2371\n",
      "Exemple d'entraînement : ('partir de chasseneuil-du-poitou pour aller vers corbie avec mes amis ce soir.', {'entities': [(10, 31, 'VILLE_DEPART'), (48, 54, 'VILLE_DESTINATION')]})\n"
     ]
    }
   ],
   "execution_count": 14
  },
  {
   "metadata": {
    "ExecuteTime": {
     "end_time": "2024-12-20T09:12:34.486296Z",
     "start_time": "2024-12-20T09:12:33.294861Z"
    }
   },
   "cell_type": "code",
   "source": [
    "# Model creation\n",
    "nlp = spacy.load(\"fr_core_news_md\")\n",
    "if \"ner\" not in nlp.pipe_names:\n",
    "    ner = nlp.add_pipe(\"ner\", last=True)\n",
    "else:\n",
    "    ner = nlp.get_pipe(\"ner\")\n",
    "\n",
    "labels = [\"VILLE_DEPART\", \"VILLE_DESTINATION\"]\n",
    "for label in labels:\n",
    "    ner.add_label(label)\n",
    "\n",
    "# Make sure that the model handles no-entity examples correctly\n",
    "optimizer = nlp.resume_training()\n"
   ],
   "id": "ac1f89e7342e497e",
   "outputs": [],
   "execution_count": 15
  },
  {
   "metadata": {
    "ExecuteTime": {
     "end_time": "2024-12-20T09:21:18.816613Z",
     "start_time": "2024-12-20T09:12:35.646124Z"
    }
   },
   "cell_type": "code",
   "source": [
    "# Training\n",
    "other_pipes = [pipe for pipe in nlp.pipe_names if pipe != 'ner']\n",
    "with nlp.disable_pipes(*other_pipes):\n",
    "    n_iter = 20\n",
    "    for itn in range(n_iter):\n",
    "        random.shuffle(train_data)\n",
    "        losses = {}\n",
    "        batches = minibatch(train_data, size=compounding(2.0, 16.0, 1.001))\n",
    "        for batch in batches:\n",
    "            texts, annotations = zip(*batch)\n",
    "            examples = []\n",
    "            for text, annotation in zip(texts, annotations):\n",
    "                doc = nlp.make_doc(text)\n",
    "                example = Example.from_dict(doc, annotation)\n",
    "                examples.append(example)\n",
    "            nlp.update(examples, sgd=optimizer, drop=0.30, losses=losses)\n",
    "        print(f\"Itération {itn + 1}, pertes : {losses}\")"
   ],
   "id": "21b70bb4744d51ac",
   "outputs": [
    {
     "name": "stdout",
     "output_type": "stream",
     "text": [
      "Itération 1, pertes : {'ner': np.float32(1117.2006)}\n",
      "Itération 2, pertes : {'ner': np.float32(170.31438)}\n",
      "Itération 3, pertes : {'ner': np.float32(160.31792)}\n",
      "Itération 4, pertes : {'ner': np.float32(155.6847)}\n",
      "Itération 5, pertes : {'ner': np.float32(128.80775)}\n",
      "Itération 6, pertes : {'ner': np.float32(65.42586)}\n",
      "Itération 7, pertes : {'ner': np.float32(143.06876)}\n",
      "Itération 8, pertes : {'ner': np.float32(88.79037)}\n",
      "Itération 9, pertes : {'ner': np.float32(32.880013)}\n",
      "Itération 10, pertes : {'ner': np.float32(70.96704)}\n",
      "Itération 11, pertes : {'ner': np.float32(57.11245)}\n",
      "Itération 12, pertes : {'ner': np.float32(64.39888)}\n",
      "Itération 13, pertes : {'ner': np.float32(32.854343)}\n",
      "Itération 14, pertes : {'ner': np.float32(54.899105)}\n",
      "Itération 15, pertes : {'ner': np.float32(56.59811)}\n",
      "Itération 16, pertes : {'ner': np.float32(54.43098)}\n",
      "Itération 17, pertes : {'ner': np.float32(25.141962)}\n",
      "Itération 18, pertes : {'ner': np.float32(22.536425)}\n",
      "Itération 19, pertes : {'ner': np.float32(86.56487)}\n",
      "Itération 20, pertes : {'ner': np.float32(31.15349)}\n"
     ]
    }
   ],
   "execution_count": 16
  },
  {
   "metadata": {
    "ExecuteTime": {
     "end_time": "2024-12-20T09:21:23.815830Z",
     "start_time": "2024-12-20T09:21:23.419592Z"
    }
   },
   "cell_type": "code",
   "source": [
    "# Save the model\n",
    "nlp.to_disk(\"model_ner_trained\")"
   ],
   "id": "b72664f24a335467",
   "outputs": [],
   "execution_count": 17
  },
  {
   "metadata": {},
   "cell_type": "markdown",
   "source": "# Testing",
   "id": "10fdd9955d829df"
  },
  {
   "metadata": {
    "ExecuteTime": {
     "end_time": "2024-12-20T09:21:28.228440Z",
     "start_time": "2024-12-20T09:21:25.756996Z"
    }
   },
   "cell_type": "code",
   "source": [
    "nlp_trained = spacy.load(\"model_ner_trained\")\n",
    "nlp_not_trained = spacy.load(\"fr_core_news_md\")"
   ],
   "id": "89c39e0baaf8d310",
   "outputs": [],
   "execution_count": 18
  },
  {
   "metadata": {
    "ExecuteTime": {
     "end_time": "2024-12-20T09:21:44.803937Z",
     "start_time": "2024-12-20T09:21:44.801032Z"
    }
   },
   "cell_type": "code",
   "source": [
    "sentences = [item['sentence'] for item in test_data]\n",
    "true_labels = [item['entities'] for item in test_data]"
   ],
   "id": "322259d58da0ec2c",
   "outputs": [],
   "execution_count": 19
  },
  {
   "metadata": {
    "ExecuteTime": {
     "end_time": "2024-12-20T09:21:47.009271Z",
     "start_time": "2024-12-20T09:21:47.006371Z"
    }
   },
   "cell_type": "code",
   "source": [
    "# Prediction\n",
    "def get_pred_labels(nlp_model, sentences):\n",
    "    pred_labels = []\n",
    "    for sentence in sentences:\n",
    "        doc = nlp_model(sentence)\n",
    "        pred_labels.append([(ent.start_char, ent.end_char, ent.label_) for ent in doc.ents])\n",
    "    return pred_labels "
   ],
   "id": "82a7c3bef501242c",
   "outputs": [],
   "execution_count": 20
  },
  {
   "metadata": {
    "ExecuteTime": {
     "end_time": "2024-12-20T09:21:48.380864Z",
     "start_time": "2024-12-20T09:21:48.377400Z"
    }
   },
   "cell_type": "code",
   "source": [
    "# Conversion of true and predicted labels\n",
    "def convert_labels(true_labels, pred_labels):\n",
    "    y_true = []\n",
    "    y_pred = []\n",
    "    for true, pred in zip(true_labels, pred_labels):\n",
    "        true_set = set((entity['start'], entity['end'], entity['label']) for entity in true)\n",
    "        pred_set = set(pred)\n",
    "        \n",
    "        if not true_set and not pred_set:\n",
    "            y_true.append(False)  \n",
    "            y_pred.append(False)\n",
    "        for label in true_set.union(pred_set):\n",
    "            y_true.append(label in true_set)\n",
    "            y_pred.append(label in pred_set)\n",
    "    \n",
    "    return y_true, y_pred"
   ],
   "id": "d9cf037085026f92",
   "outputs": [],
   "execution_count": 21
  },
  {
   "metadata": {
    "ExecuteTime": {
     "end_time": "2024-12-20T09:21:51.447882Z",
     "start_time": "2024-12-20T09:21:51.444588Z"
    }
   },
   "cell_type": "code",
   "source": [
    "# Adjusting the labels of the not trained model because it doesn't have the 'VILLE_DEPART' and 'VILLE_DESTINATION' labels\n",
    "def adjust_not_trained_labels(pred_labels):\n",
    "    adjusted_labels = []\n",
    "    for labels in pred_labels:\n",
    "        adjusted = []\n",
    "        for i, (start, end, label) in enumerate(labels):\n",
    "            if label == 'LOC':\n",
    "                if i == 0: \n",
    "                    adjusted.append((start, end, 'VILLE_DEPART'))\n",
    "                else:\n",
    "                    adjusted.append((start, end, 'VILLE_DESTINATION'))\n",
    "            else:\n",
    "                adjusted.append((start, end, label))\n",
    "        adjusted_labels.append(adjusted)\n",
    "    return adjusted_labels"
   ],
   "id": "423c2a51186000cb",
   "outputs": [],
   "execution_count": 22
  },
  {
   "metadata": {
    "ExecuteTime": {
     "end_time": "2024-12-20T09:22:05.116685Z",
     "start_time": "2024-12-20T09:21:53.993798Z"
    }
   },
   "cell_type": "code",
   "source": [
    "pred_labels_trained = get_pred_labels(nlp_trained, sentences)\n",
    "pred_labels_not_trained = get_pred_labels(nlp_not_trained, sentences)\n",
    "adjusted_labels_not_trained = adjust_not_trained_labels(pred_labels_not_trained)"
   ],
   "id": "7e3babe610800fc9",
   "outputs": [],
   "execution_count": 23
  },
  {
   "metadata": {
    "ExecuteTime": {
     "end_time": "2024-12-20T09:22:13.732175Z",
     "start_time": "2024-12-20T09:22:13.725805Z"
    }
   },
   "cell_type": "code",
   "source": [
    "y_true_trained, y_pred_trained = convert_labels(true_labels, pred_labels_trained)\n",
    "y_true_not_trained, y_pred_not_trained = convert_labels(true_labels, adjusted_labels_not_trained)"
   ],
   "id": "3c178f628ca6de6",
   "outputs": [],
   "execution_count": 24
  },
  {
   "metadata": {
    "ExecuteTime": {
     "end_time": "2024-12-20T09:22:14.979691Z",
     "start_time": "2024-12-20T09:22:14.977060Z"
    }
   },
   "cell_type": "code",
   "source": [
    "def plot_confusion_matrix(y_true, y_pred, model_name):\n",
    "    conf_matrix = confusion_matrix(y_true, y_pred)\n",
    "    plt.figure(figsize=(10, 7))\n",
    "    sns.heatmap(conf_matrix, annot=True, fmt='d', cmap='Blues')\n",
    "    plt.title(f'Confusion Matrix for {model_name}')\n",
    "    plt.xlabel('Predicted')\n",
    "    plt.ylabel('True')\n",
    "    plt.show()"
   ],
   "id": "54d795fe23838ddc",
   "outputs": [],
   "execution_count": 25
  },
  {
   "metadata": {
    "ExecuteTime": {
     "end_time": "2024-12-20T09:22:17.209428Z",
     "start_time": "2024-12-20T09:22:17.205944Z"
    }
   },
   "cell_type": "code",
   "source": [
    "# Evaluation\n",
    "def evaluate_model(y_true, y_pred, model_name):\n",
    "    print(f\"Model: {model_name}\")\n",
    "    \n",
    "    #  Confusion matrix\n",
    "    plot_confusion_matrix(y_true, y_pred, model_name)\n",
    "    \n",
    "    # Classification report\n",
    "    class_report = classification_report(y_true, y_pred)\n",
    "    print(\"Classification Report:\\n\", class_report)"
   ],
   "id": "516467b93fb5e0f4",
   "outputs": [],
   "execution_count": 26
  },
  {
   "metadata": {
    "ExecuteTime": {
     "end_time": "2024-12-20T09:22:20.418572Z",
     "start_time": "2024-12-20T09:22:20.179577Z"
    }
   },
   "cell_type": "code",
   "source": [
    "evaluate_model(y_true_trained, y_pred_trained, \"Trained Model\")\n",
    "evaluate_model(y_true_not_trained, y_pred_not_trained, \"Not Trained Model\")"
   ],
   "id": "e373a0cf049206e",
   "outputs": [
    {
     "name": "stdout",
     "output_type": "stream",
     "text": [
      "Model: Trained Model\n"
     ]
    },
    {
     "data": {
      "text/plain": [
       "<Figure size 1000x700 with 2 Axes>"
      ],
      "image/png": "[encoded data removed]"
     },
     "metadata": {},
     "output_type": "display_data"
    },
    {
     "name": "stdout",
     "output_type": "stream",
     "text": [
      "Classification Report:\n",
      "               precision    recall  f1-score   support\n",
      "\n",
      "       False       0.94      0.96      0.95       653\n",
      "        True       0.98      0.97      0.97      1142\n",
      "\n",
      "    accuracy                           0.96      1795\n",
      "   macro avg       0.96      0.96      0.96      1795\n",
      "weighted avg       0.96      0.96      0.96      1795\n",
      "\n",
      "Model: Not Trained Model\n"
     ]
    },
    {
     "data": {
      "text/plain": [
       "<Figure size 1000x700 with 2 Axes>"
      ],
      "image/png": "[encoded data removed]"
     },
     "metadata": {},
     "output_type": "display_data"
    },
    {
     "name": "stdout",
     "output_type": "stream",
     "text": [
      "Classification Report:\n",
      "               precision    recall  f1-score   support\n",
      "\n",
      "       False       0.47      0.60      0.53       962\n",
      "        True       0.56      0.43      0.49      1142\n",
      "\n",
      "    accuracy                           0.51      2104\n",
      "   macro avg       0.52      0.52      0.51      2104\n",
      "weighted avg       0.52      0.51      0.51      2104\n",
      "\n"
     ]
    }
   ],
   "execution_count": 27
  },
  {
   "metadata": {},
   "cell_type": "markdown",
   "source": "# Validation",
   "id": "ecd7f9b0ea39b9ff"
  },
  {
   "metadata": {
    "ExecuteTime": {
     "end_time": "2024-12-20T09:22:55.339727Z",
     "start_time": "2024-12-20T09:22:40.399795Z"
    }
   },
   "cell_type": "code",
   "source": [
    "# Load validation data\n",
    "with open('../nlpDataSet/validation.json', 'r') as file:\n",
    "    validation_data = json.load(file)\n",
    "nlp_trained = spacy.load(\"model_ner_trained\")\n",
    "sentences = [item['sentence'] for item in validation_data]\n",
    "true_labels = [item['entities'] for item in validation_data]\n",
    "pred_labels_trained = get_pred_labels(nlp_trained, sentences)\n",
    "y_true_trained, y_pred_trained = convert_labels(true_labels, pred_labels_trained)\n",
    "\n",
    "evaluate_model(y_true_trained, y_pred_trained, \"Trained Model\")"
   ],
   "id": "e4a75f95d6e9df10",
   "outputs": [
    {
     "name": "stdout",
     "output_type": "stream",
     "text": [
      "Model: Trained Model\n"
     ]
    },
    {
     "data": {
      "text/plain": [
       "<Figure size 1000x700 with 2 Axes>"
      ],
      "image/png": "[encoded data removed]"
     },
     "metadata": {},
     "output_type": "display_data"
    },
    {
     "name": "stdout",
     "output_type": "stream",
     "text": [
      "Classification Report:\n",
      "               precision    recall  f1-score   support\n",
      "\n",
      "       False       0.28      0.64      0.40      1475\n",
      "        True       0.75      0.40      0.53      4000\n",
      "\n",
      "    accuracy                           0.47      5475\n",
      "   macro avg       0.52      0.52      0.46      5475\n",
      "weighted avg       0.63      0.47      0.49      5475\n",
      "\n"
     ]
    }
   ],
   "execution_count": 28
  },
  {
   "metadata": {},
   "cell_type": "markdown",
   "source": "",
   "id": "fc53bbd0f425acb3"
  }
 ],
 "metadata": {
  "kernelspec": {
   "display_name": "Python 3",
   "language": "python",
   "name": "python3"
  },
  "language_info": {
   "codemirror_mode": {
    "name": "ipython",
    "version": 2
   },
   "file_extension": ".py",
   "mimetype": "text/x-python",
   "name": "python",
   "nbconvert_exporter": "python",
   "pygments_lexer": "ipython2",
   "version": "2.7.6"
  }
 },
 "nbformat": 4,
 "nbformat_minor": 5
}
