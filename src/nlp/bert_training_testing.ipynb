{
 "cells": [
  {
   "metadata": {
    "ExecuteTime": {
     "end_time": "2025-01-10T10:03:40.015810Z",
     "start_time": "2025-01-10T10:03:39.996990Z"
    }
   },
   "cell_type": "code",
   "source": [
    "from transformers import AutoTokenizer, AutoModelForTokenClassification, TrainingArguments, Trainer\n",
    "from transformers import DataCollatorForTokenClassification\n",
    "from datasets import Dataset, DatasetDict\n",
    "import numpy as np\n",
    "from sklearn.metrics import classification_report, confusion_matrix, f1_score, precision_score, recall_score\n",
    "import matplotlib.pyplot as plt\n",
    "import seaborn as sns\n",
    "from collections import Counter\n",
    "import json\n",
    "\n",
    "# Charger les données d'entraînement et de test\n",
    "with open('../nlpDataSet/train.json', 'r') as f:\n",
    "    train_data = json.load(f)\n",
    "\n",
    "with open('../nlpDataSet/test.json', 'r') as f:\n",
    "    test_data = json.load(f)"
   ],
   "id": "ff8390da84d05fe4",
   "outputs": [],
   "execution_count": 7
  },
  {
   "metadata": {
    "ExecuteTime": {
     "end_time": "2025-01-10T10:03:40.773747Z",
     "start_time": "2025-01-10T10:03:40.740372Z"
    }
   },
   "cell_type": "code",
   "source": [
    "# Préparer les données\n",
    "def preprocess_data(data):\n",
    "    sentences = []\n",
    "    labels = []\n",
    "    label_map = {\n",
    "        \"O\": 0,\n",
    "        \"VILLE_DEPART\": 1,\n",
    "        \"I-VILLE_DEPART\": 2,\n",
    "        \"VILLE_DESTINATION\": 3,\n",
    "        \"I-VILLE_DESTINATION\": 4\n",
    "    }\n",
    "\n",
    "    for item in data:\n",
    "        text = item['sentence']\n",
    "        entities = item['entities']\n",
    "        label_seq = [\"O\"] * len(text)\n",
    "\n",
    "        for ent in entities:\n",
    "            start, end, label = ent['start'], ent['end'], ent['label']\n",
    "            label_seq[start] = label\n",
    "            for i in range(start + 1, end):\n",
    "                label_seq[i] = f\"I-{label}\"\n",
    "\n",
    "        sentences.append(text)\n",
    "        labels.append([label_map[label] for label in label_seq])\n",
    "\n",
    "    return sentences, labels\n",
    "\n",
    "train_sentences, train_labels = preprocess_data(train_data)\n",
    "test_sentences, test_labels = preprocess_data(test_data)\n",
    "\n",
    "# Vérifier la distribution des étiquettes\n",
    "def check_label_distribution(labels):\n",
    "    all_labels = [label for example in labels for label in example]\n",
    "    label_counts = Counter(all_labels)\n",
    "    print(\"Répartition des étiquettes :\", label_counts)\n",
    "\n",
    "check_label_distribution(train_labels)\n",
    "check_label_distribution(test_labels)\n"
   ],
   "id": "fa0fffa27f920e36",
   "outputs": [
    {
     "name": "stdout",
     "output_type": "stream",
     "text": [
      "Répartition des étiquettes : Counter({0: 90096, 2: 8591, 4: 8425, 1: 807, 3: 807})\n",
      "Répartition des étiquettes : Counter({0: 22672, 2: 2024, 4: 2005, 1: 193, 3: 193})\n"
     ]
    }
   ],
   "execution_count": 8
  },
  {
   "metadata": {
    "ExecuteTime": {
     "end_time": "2025-01-10T10:03:41.916715Z",
     "start_time": "2025-01-10T10:03:41.574942Z"
    }
   },
   "cell_type": "code",
   "source": [
    "# Charger le tokenizer et le modèle\n",
    "model_name = \"camembert-base\"\n",
    "tokenizer = AutoTokenizer.from_pretrained(model_name)\n",
    "\n",
    "# Tokenizer les données\n",
    "def tokenize_and_align_labels(sentences, labels):\n",
    "    tokenized_inputs = tokenizer(sentences, truncation=True, padding=True, is_split_into_words=False)\n",
    "    aligned_labels = []\n",
    "\n",
    "    for i, label in enumerate(labels):\n",
    "        word_ids = tokenized_inputs.word_ids(batch_index=i)\n",
    "        previous_word_idx = None\n",
    "        label_ids = []\n",
    "\n",
    "        for word_idx in word_ids:\n",
    "            if word_idx is None:\n",
    "                label_ids.append(-100)  # Ignorer ce token\n",
    "            elif word_idx != previous_word_idx:\n",
    "                label_ids.append(label[word_idx])\n",
    "            else:\n",
    "                label_ids.append(-100)  # Ignorer les sous-tokens\n",
    "\n",
    "            previous_word_idx = word_idx\n",
    "        aligned_labels.append(label_ids)\n",
    "\n",
    "    tokenized_inputs[\"labels\"] = aligned_labels\n",
    "    return tokenized_inputs\n",
    "\n",
    "train_dataset = Dataset.from_dict(tokenize_and_align_labels(train_sentences, train_labels))\n",
    "test_dataset = Dataset.from_dict(tokenize_and_align_labels(test_sentences, test_labels))\n",
    "\n",
    "datasets = DatasetDict({\"train\": train_dataset, \"test\": test_dataset})\n"
   ],
   "id": "83c8c4aacab58c7b",
   "outputs": [],
   "execution_count": 9
  },
  {
   "metadata": {
    "ExecuteTime": {
     "end_time": "2025-01-10T10:03:42.590630Z",
     "start_time": "2025-01-10T10:03:42.406017Z"
    }
   },
   "cell_type": "code",
   "source": [
    "# Charger le modèle avec le bon nombre d'étiquettes\n",
    "model = AutoModelForTokenClassification.from_pretrained(model_name, num_labels=5)\n",
    "\n",
    "# Configurer l'entraînement\n",
    "args = TrainingArguments(\n",
    "    output_dir=\"bert-ner\",\n",
    "    evaluation_strategy=\"epoch\",  # Remplace evaluation_strategy (obsolète)\n",
    "    learning_rate=2e-5,\n",
    "    per_device_train_batch_size=16,\n",
    "    num_train_epochs=5,\n",
    "    weight_decay=0.01,\n",
    "    logging_dir=\"logs\",\n",
    "    logging_steps=10,\n",
    "    save_total_limit=2,\n",
    ")\n",
    "\n",
    "data_collator = DataCollatorForTokenClassification(tokenizer)\n",
    "\n",
    "# Fonction de métrique corrigée\n",
    "def compute_metrics(p):\n",
    "    predictions, labels = p\n",
    "    predictions = np.argmax(predictions, axis=2)\n",
    "\n",
    "    true_labels = [[label for label in example if label != -100] for example in labels]\n",
    "    true_predictions = [[pred for (pred, label) in zip(prediction, example) if label != -100]\n",
    "                        for prediction, example in zip(predictions, labels)]\n",
    "\n",
    "    y_true = [label for example in true_labels for label in example]\n",
    "    y_pred = [pred for example in true_predictions for pred in example]\n",
    "\n",
    "    f1 = f1_score(y_true, y_pred, average='weighted', zero_division=1)\n",
    "    precision = precision_score(y_true, y_pred, average='weighted', zero_division=1)\n",
    "    recall = recall_score(y_true, y_pred, average='weighted', zero_division=1)\n",
    "\n",
    "    return {\"f1\": f1, \"precision\": precision, \"recall\": recall}\n"
   ],
   "id": "d91ebb2d8093b629",
   "outputs": [
    {
     "name": "stderr",
     "output_type": "stream",
     "text": [
      "Some weights of CamembertForTokenClassification were not initialized from the model checkpoint at camembert-base and are newly initialized: ['classifier.bias', 'classifier.weight']\n",
      "You should probably TRAIN this model on a down-stream task to be able to use it for predictions and inference.\n",
      "/Users/pacomedhiser/Documents/epitech/T-AIA-901-NAN_2/.venv/lib/python3.12/site-packages/transformers/training_args.py:1575: FutureWarning: `evaluation_strategy` is deprecated and will be removed in version 4.46 of 🤗 Transformers. Use `eval_strategy` instead\n",
      "  warnings.warn(\n"
     ]
    }
   ],
   "execution_count": 10
  },
  {
   "metadata": {
    "ExecuteTime": {
     "end_time": "2025-01-10T10:17:51.604037Z",
     "start_time": "2025-01-10T10:03:44.521002Z"
    }
   },
   "cell_type": "code",
   "source": [
    "# Entraîner le modèle\n",
    "trainer = Trainer(\n",
    "    model=model,\n",
    "    args=args,\n",
    "    train_dataset=datasets[\"train\"],\n",
    "    eval_dataset=datasets[\"test\"],\n",
    "    data_collator=data_collator,\n",
    "    compute_metrics=compute_metrics,\n",
    ")\n",
    "\n",
    "trainer.train()\n"
   ],
   "id": "2804970d7306546a",
   "outputs": [
    {
     "data": {
      "text/plain": [
       "<IPython.core.display.HTML object>"
      ],
      "text/html": [
       "\n",
       "    <div>\n",
       "      \n",
       "      <progress value='500' max='500' style='width:300px; height:20px; vertical-align: middle;'></progress>\n",
       "      [500/500 04:24, Epoch 5/5]\n",
       "    </div>\n",
       "    <table border=\"1\" class=\"dataframe\">\n",
       "  <thead>\n",
       " <tr style=\"text-align: left;\">\n",
       "      <th>Epoch</th>\n",
       "      <th>Training Loss</th>\n",
       "      <th>Validation Loss</th>\n",
       "      <th>F1</th>\n",
       "      <th>Precision</th>\n",
       "      <th>Recall</th>\n",
       "    </tr>\n",
       "  </thead>\n",
       "  <tbody>\n",
       "    <tr>\n",
       "      <td>1</td>\n",
       "      <td>0.363400</td>\n",
       "      <td>0.358030</td>\n",
       "      <td>0.931991</td>\n",
       "      <td>0.956393</td>\n",
       "      <td>0.954305</td>\n",
       "    </tr>\n",
       "    <tr>\n",
       "      <td>2</td>\n",
       "      <td>0.250700</td>\n",
       "      <td>0.224979</td>\n",
       "      <td>0.980315</td>\n",
       "      <td>0.987309</td>\n",
       "      <td>0.985651</td>\n",
       "    </tr>\n",
       "    <tr>\n",
       "      <td>3</td>\n",
       "      <td>0.182800</td>\n",
       "      <td>0.174442</td>\n",
       "      <td>0.991092</td>\n",
       "      <td>0.991483</td>\n",
       "      <td>0.991611</td>\n",
       "    </tr>\n",
       "    <tr>\n",
       "      <td>4</td>\n",
       "      <td>0.176500</td>\n",
       "      <td>0.152401</td>\n",
       "      <td>0.994195</td>\n",
       "      <td>0.994154</td>\n",
       "      <td>0.994260</td>\n",
       "    </tr>\n",
       "    <tr>\n",
       "      <td>5</td>\n",
       "      <td>0.146400</td>\n",
       "      <td>0.146009</td>\n",
       "      <td>0.994195</td>\n",
       "      <td>0.994154</td>\n",
       "      <td>0.994260</td>\n",
       "    </tr>\n",
       "  </tbody>\n",
       "</table><p>"
      ]
     },
     "metadata": {},
     "output_type": "display_data"
    },
    {
     "data": {
      "text/plain": [
       "TrainOutput(global_step=500, training_loss=0.31738940501213075, metrics={'train_runtime': 265.072, 'train_samples_per_second': 30.18, 'train_steps_per_second': 1.886, 'total_flos': 151066284720000.0, 'train_loss': 0.31738940501213075, 'epoch': 5.0})"
      ]
     },
     "execution_count": 11,
     "metadata": {},
     "output_type": "execute_result"
    },
    {
     "data": {
      "text/plain": [
       "TrainOutput(global_step=500, training_loss=0.2732455098628998, metrics={'train_runtime': 265.169, 'train_samples_per_second': 30.169, 'train_steps_per_second': 1.886, 'total_flos': 151066284720000.0, 'train_loss': 0.2732455098628998, 'epoch': 5.0})"
      ]
     },
     "execution_count": 16,
     "metadata": {},
     "output_type": "execute_result"
    }
   ],
   "execution_count": 16
  },
  {
   "metadata": {
    "ExecuteTime": {
     "end_time": "2025-01-10T10:18:06.765297Z",
     "start_time": "2025-01-10T10:18:00.425976Z"
    }
   },
   "cell_type": "code",
   "source": [
    "# Évaluation\n",
    "metrics = trainer.evaluate()\n",
    "print(metrics)\n",
    "\n",
    "# Visualisation de la matrice de confusion\n",
    "def align_predictions(predictions, labels):\n",
    "    true_labels = []\n",
    "    true_predictions = []\n",
    "    for prediction, label in zip(predictions, labels):\n",
    "        for pred, lab in zip(prediction, label):\n",
    "            if lab != -100:\n",
    "                true_labels.append(lab)\n",
    "                true_predictions.append(pred)\n",
    "    return true_labels, true_predictions\n",
    "\n",
    "predictions = trainer.predict(datasets[\"test\"]).predictions\n",
    "y_pred = np.argmax(predictions, axis=2)\n",
    "y_true, y_pred = align_predictions(y_pred, datasets[\"test\"][\"labels\"])\n",
    "\n",
    "conf_matrix = confusion_matrix(y_true, y_pred)\n",
    "plt.figure(figsize=(10, 7))\n",
    "sns.heatmap(\n",
    "    conf_matrix,\n",
    "    annot=True,\n",
    "    fmt='d',\n",
    "    cmap='Blues',\n",
    "    xticklabels=[\"O\", \"VILLE_DEPART\", \"I-VILLE_DEPART\", \"VILLE_DESTINATION\", \"I-VILLE_DESTINATION\"],\n",
    "    yticklabels=[\"O\", \"VILLE_DEPART\", \"I-VILLE_DEPART\", \"VILLE_DESTINATION\", \"I-VILLE_DESTINATION\"]\n",
    ")\n",
    "plt.xlabel(\"Prédictions\")\n",
    "plt.ylabel(\"Vérité\")\n",
    "plt.title(\"Matrice de Confusion\")\n",
    "plt.show()\n"
   ],
   "id": "29c9154a9d148184",
   "outputs": [
    {
     "data": {
      "text/plain": [
       "<IPython.core.display.HTML object>"
      ],
      "text/html": []
     },
     "metadata": {},
     "output_type": "display_data"
    },
    {
     "name": "stdout",
     "output_type": "stream",
     "text": [
      "{'eval_loss': 0.14600926637649536, 'eval_f1': 0.9941953381133425, 'eval_precision': 0.9941542925320831, 'eval_recall': 0.9942604856512142, 'eval_runtime': 3.1363, 'eval_samples_per_second': 127.541, 'eval_steps_per_second': 15.943, 'epoch': 5.0}\n"
     ]
    },
    {
     "data": {
      "text/plain": [
       "<Figure size 1000x700 with 2 Axes>"
      ],
      "image/png": "[encoded data removed]"
     },
     "metadata": {},
     "output_type": "display_data"
    }
   ],
   "execution_count": 18
  },
  {
   "metadata": {},
   "cell_type": "code",
   "outputs": [],
   "execution_count": null,
   "source": "",
   "id": "eda49f3df5c26b81"
  }
 ],
 "metadata": {
  "kernelspec": {
   "display_name": "Python 3",
   "language": "python",
   "name": "python3"
  },
  "language_info": {
   "codemirror_mode": {
    "name": "ipython",
    "version": 2
   },
   "file_extension": ".py",
   "mimetype": "text/x-python",
   "name": "python",
   "nbconvert_exporter": "python",
   "pygments_lexer": "ipython2",
   "version": "2.7.6"
  }
 },
 "nbformat": 4,
 "nbformat_minor": 5
}
